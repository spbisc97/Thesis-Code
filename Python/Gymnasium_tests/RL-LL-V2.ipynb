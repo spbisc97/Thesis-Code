{
 "cells": [
  {
   "cell_type": "code",
   "execution_count": null,
   "metadata": {},
   "outputs": [],
   "source": [
    "import os\n",
    "import gymnasium as gym\n",
    "import matplotlib.pyplot as plt \n",
    "# %matplotlib inline\n",
    "# os.environ[\"SDL_VIDEODRIVER\"] = \"dummy\"\n",
    "from IPython import display"
   ]
  },
  {
   "cell_type": "code",
   "execution_count": null,
   "metadata": {},
   "outputs": [],
   "source": [
    "import ffmpegio\n",
    "import numpy as np"
   ]
  },
  {
   "cell_type": "code",
   "execution_count": null,
   "metadata": {},
   "outputs": [],
   "source": [
    "from stable_baselines3 import A2C\n",
    "Algo=A2C\n",
    "Algo.name = \"A2C\""
   ]
  },
  {
   "cell_type": "code",
   "execution_count": null,
   "metadata": {},
   "outputs": [],
   "source": [
    "env = gym.make(\n",
    "    \"LunarLander-v2\",\n",
    "    continuous  = False,\n",
    "    gravity = -10.0,\n",
    "    enable_wind = False,\n",
    "    wind_power = 15.0,\n",
    "    turbulence_power = 1.5,\n",
    "    render_mode='rgb_array')\n",
    "\n",
    "observation, info = env.reset(seed=42)\n",
    "env_name=\"LunarLander-v2\""
   ]
  },
  {
   "cell_type": "code",
   "execution_count": null,
   "metadata": {},
   "outputs": [],
   "source": [
    "models_dir=f\"models/{env_name}/{Algo.name}\"\n",
    "logdir = f\"logs/{env_name}/{Algo.name}\"\n",
    "imgs_dir = f\"imgs/{env_name}/{Algo.name}\"\n",
    "\n",
    "os.makedirs(models_dir, exist_ok=True)\n",
    "os.makedirs(logdir, exist_ok=True)\n",
    "os.makedirs(imgs_dir, exist_ok=True)"
   ]
  },
  {
   "cell_type": "code",
   "execution_count": null,
   "metadata": {},
   "outputs": [],
   "source": [
    "%load_ext tensorboard\n",
    "%tensorboard --logdir {logdir}"
   ]
  },
  {
   "attachments": {},
   "cell_type": "markdown",
   "metadata": {},
   "source": [
    "## Print Agent Information"
   ]
  },
  {
   "cell_type": "code",
   "execution_count": null,
   "metadata": {},
   "outputs": [],
   "source": [
    "print(\"Observation Space: \", format(env.observation_space))\n",
    "print(\"Sample Observation\", format(env.observation_space.sample()))\n"
   ]
  },
  {
   "cell_type": "code",
   "execution_count": null,
   "metadata": {},
   "outputs": [],
   "source": [
    "\n",
    "print(\"Action Space       \", format(env.action_space))\n",
    "print(\"Action Space Sample \", format(env.action_space.sample()))\n"
   ]
  },
  {
   "cell_type": "code",
   "execution_count": null,
   "metadata": {},
   "outputs": [],
   "source": [
    "model = Algo(\"MlpPolicy\", env, verbose=0, tensorboard_log=logdir)\n",
    "vec_env = model.get_env()"
   ]
  },
  {
   "cell_type": "code",
   "execution_count": null,
   "metadata": {},
   "outputs": [],
   "source": [
    "print(\"Observation Space: \", format(vec_env.observation_space))\n",
    "print(\"Sample Observation\", format(vec_env.observation_space.sample()))"
   ]
  },
  {
   "cell_type": "code",
   "execution_count": null,
   "metadata": {},
   "outputs": [],
   "source": [
    "print(\"Action Space       \", format(vec_env.action_space))\n",
    "print(\"Action Space Sample \", format(vec_env.action_space.sample()))"
   ]
  },
  {
   "attachments": {},
   "cell_type": "markdown",
   "metadata": {},
   "source": [
    "Save Models"
   ]
  },
  {
   "cell_type": "code",
   "execution_count": null,
   "metadata": {},
   "outputs": [],
   "source": [
    "last_run = 1"
   ]
  },
  {
   "cell_type": "code",
   "execution_count": null,
   "metadata": {},
   "outputs": [],
   "source": [
    "timesteps = 40_000\n",
    "for i in range(last_run ,last_run + 5):\n",
    "    model.learn(total_timesteps=timesteps,reset_num_timesteps=False,tb_log_name=\"run_\"+str(format(i,'04d')))\n",
    "    model.save(f\"{models_dir}/{Algo.name}_{format(i,'04d')}\")\n",
    "    choosen_model_name=f\"{Algo.name}_{format(i,'04d')}\""
   ]
  },
  {
   "attachments": {},
   "cell_type": "markdown",
   "metadata": {},
   "source": [
    "## Show Whats Learned"
   ]
  },
  {
   "cell_type": "code",
   "execution_count": null,
   "metadata": {},
   "outputs": [],
   "source": [
    "# Number of steps you run the agent for \n",
    "num_episodes = 2"
   ]
  },
  {
   "cell_type": "code",
   "execution_count": null,
   "metadata": {},
   "outputs": [],
   "source": [
    "# we can now remake the env with human mode so we can render it\n",
    "env = gym.make(\n",
    "    \"LunarLander-v2\",\n",
    "    continuous  = False,\n",
    "    gravity = -10.0,\n",
    "    enable_wind = False,\n",
    "    wind_power = 15.0,\n",
    "    turbulence_power = 1.5,\n",
    "    render_mode='rgb_array')\n",
    "# we could also change some parameters of the environment to check robustness of the agent"
   ]
  },
  {
   "cell_type": "code",
   "execution_count": null,
   "metadata": {},
   "outputs": [],
   "source": [
    "# we can now use the one of the models that we have saved to run the agent\n",
    "choosen_model = Algo.load(f\"{models_dir}/{choosen_model_name}\",env=env)"
   ]
  },
  {
   "cell_type": "code",
   "execution_count": null,
   "metadata": {},
   "outputs": [],
   "source": [
    "for ep in range(num_episodes):\n",
    "    obs,info=env.reset()\n",
    "    term=False\n",
    "    frames=[]\n",
    "    while not term or trunc:\n",
    "        action, _state = choosen_model.predict(obs, deterministic=True)\n",
    "        obs, reward, term,trunc, info = env.step(action)\n",
    "        if ep==num_episodes-1:\n",
    "            frames+=[env.render()]\n",
    "        if term or trunc:\n",
    "            break"
   ]
  },
  {
   "cell_type": "code",
   "execution_count": null,
   "metadata": {},
   "outputs": [],
   "source": [
    "filename = f\"./{imgs_dir}/{choosen_model_name}.webm\"\n",
    "ffmpegio.video.write(filename, 10, np.array(frames[0::3]),overwrite=True,show_log=True)\n",
    "display.HTML(f\"\"\"<video alt=\"test\" controls><source src=\"\"\"+filename+\"\"\" type=\"video/webm\"></video>\"\"\")"
   ]
  },
  {
   "cell_type": "code",
   "execution_count": null,
   "metadata": {},
   "outputs": [],
   "source": [
    "env.close()"
   ]
  }
 ],
 "metadata": {
  "kernelspec": {
   "display_name": "base",
   "language": "python",
   "name": "python3"
  },
  "language_info": {
   "codemirror_mode": {
    "name": "ipython",
    "version": 3
   },
   "file_extension": ".py",
   "mimetype": "text/x-python",
   "name": "python",
   "nbconvert_exporter": "python",
   "pygments_lexer": "ipython3",
   "version": "3.10.11"
  },
  "orig_nbformat": 4
 },
 "nbformat": 4,
 "nbformat_minor": 2
}
