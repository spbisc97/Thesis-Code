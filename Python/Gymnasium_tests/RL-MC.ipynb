{
 "cells": [
  {
   "cell_type": "code",
   "execution_count": null,
   "metadata": {},
   "outputs": [],
   "source": [
    "import gymnasium as gym\n",
    "env= gym.make('MountainCarContinuous-v0',render_mode='rgb_array')\n",
    "env_name=\"MountainCarContinuous\"\n",
    "\n",
    "Algo_name=\"Random_test\""
   ]
  },
  {
   "cell_type": "code",
   "execution_count": null,
   "metadata": {},
   "outputs": [],
   "source": [
    "import matplotlib.pyplot as plt\n",
    "from matplotlib import animation , rc\n",
    "from IPython import display\n",
    "%matplotlib inline"
   ]
  },
  {
   "cell_type": "code",
   "execution_count": null,
   "metadata": {},
   "outputs": [],
   "source": [
    "import ffmpegio\n",
    "import numpy as np\n",
    "import os"
   ]
  },
  {
   "cell_type": "code",
   "execution_count": null,
   "metadata": {},
   "outputs": [],
   "source": [
    "imgs_dir = f\"imgs/{env_name}/{Algo_name}\""
   ]
  },
  {
   "cell_type": "code",
   "execution_count": null,
   "metadata": {},
   "outputs": [],
   "source": [
    "# Observation and action space \n",
    "obs_space = env.observation_space\n",
    "action_space = env.action_space\n",
    "print(\"The observation space: {}\".format(obs_space))\n",
    "print(\"The action space: {}\".format(action_space))"
   ]
  },
  {
   "cell_type": "code",
   "execution_count": null,
   "metadata": {},
   "outputs": [],
   "source": [
    "import stable_baselines3\n",
    "from stable_baselines3 import A2C"
   ]
  },
  {
   "cell_type": "code",
   "execution_count": null,
   "metadata": {},
   "outputs": [],
   "source": [
    "model = A2C(\"MlpPolicy\", env, verbose=0)\n",
    "model.learn(total_timesteps=1_000);\n",
    "vec_env=model.get_env()"
   ]
  },
  {
   "cell_type": "code",
   "execution_count": null,
   "metadata": {},
   "outputs": [],
   "source": [
    "# Observation and action space \n",
    "obs_space = vec_env.observation_space\n",
    "action_space = vec_env.action_space\n",
    "print(\"The observation space: {}\".format(obs_space))\n",
    "print(\"The action space: {}\".format(action_space))\n"
   ]
  },
  {
   "cell_type": "code",
   "execution_count": null,
   "metadata": {},
   "outputs": [],
   "source": [
    "obs = vec_env.reset()\n",
    "num_episodes = 10\n",
    "frames = []\n",
    "for i in range(num_episodes):\n",
    "    for j in range(1000):\n",
    "        action, _state = model.predict(obs, deterministic=True)\n",
    "        obs, reward, done, info = vec_env.step(action)\n",
    "        if i==num_episodes-1:\n",
    "            frames.append(vec_env.render())\n",
    "        # vec_env.render()\n",
    "        # VecEnv resets automatically\n",
    "        if done:\n",
    "            obs = vec_env.reset()\n",
    "            print('done '+str(i))\n",
    "            break"
   ]
  },
  {
   "cell_type": "code",
   "execution_count": null,
   "metadata": {},
   "outputs": [],
   "source": [
    "os.makedirs(imgs_dir, exist_ok=True)\n",
    "\n",
    "filename = imgs_dir+'FIRST'+'.mp4'\n",
    "ffmpegio.video.write(filename, 30, np.array(frames),overwrite=True,show_log=True)\n",
    "display.HTML(\"\"\"<video alt=\"test\" controls><source src=\"\"\"+filename+\"\"\" type=\"video/mp4\"></video>\"\"\")"
   ]
  },
  {
   "cell_type": "code",
   "execution_count": null,
   "metadata": {},
   "outputs": [],
   "source": [
    "model.learn(total_timesteps=1_000);"
   ]
  },
  {
   "cell_type": "code",
   "execution_count": null,
   "metadata": {},
   "outputs": [],
   "source": [
    "vec_env=model.get_env()"
   ]
  },
  {
   "cell_type": "code",
   "execution_count": null,
   "metadata": {},
   "outputs": [],
   "source": [
    "obs = vec_env.reset()\n",
    "num_episodes = 10\n",
    "frames = []\n",
    "for i in range(num_episodes):\n",
    "    for j in range(100000):\n",
    "        action, _state = model.predict(obs, deterministic=True)\n",
    "        obs, reward, done, info = vec_env.step(action)\n",
    "        if i==num_episodes-1:\n",
    "            frames.append(vec_env.render())\n",
    "        # vec_env.render()\n",
    "        # VecEnv resets automatically\n",
    "        if done:\n",
    "            obs = vec_env.reset()\n",
    "            print('done '+str(i))\n",
    "            break"
   ]
  },
  {
   "cell_type": "code",
   "execution_count": null,
   "metadata": {},
   "outputs": [],
   "source": [
    "os.makedirs(imgs_dir, exist_ok=True)\n",
    "\n",
    "filename = imgs_dir+'SECOND'+'.mp4'\n",
    "ffmpegio.video.write(filename, 30, np.array(frames),overwrite=True,show_log=True)\n",
    "display.HTML(\"\"\"<video alt=\"test\" controls><source src=\"\"\"+filename+\"\"\" type=\"video/mp4\"></video>\"\"\")"
   ]
  }
 ],
 "metadata": {
  "kernelspec": {
   "display_name": "Python 3",
   "language": "python",
   "name": "python3"
  },
  "language_info": {
   "codemirror_mode": {
    "name": "ipython",
    "version": 3
   },
   "file_extension": ".py",
   "mimetype": "text/x-python",
   "name": "python",
   "nbconvert_exporter": "python",
   "pygments_lexer": "ipython3",
   "version": "3.10.11"
  },
  "orig_nbformat": 4
 },
 "nbformat": 4,
 "nbformat_minor": 2
}
