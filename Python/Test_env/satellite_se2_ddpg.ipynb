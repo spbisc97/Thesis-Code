{
 "cells": [
  {
   "cell_type": "code",
   "execution_count": 4,
   "metadata": {},
   "outputs": [],
   "source": [
    "import safegym"
   ]
  },
  {
   "cell_type": "code",
   "execution_count": 12,
   "metadata": {},
   "outputs": [
    {
     "name": "stdout",
     "output_type": "stream",
     "text": [
      "8\n",
      "Using cpu device\n",
      "Wrapping the env with a `Monitor` wrapper\n",
      "Wrapping the env in a DummyVecEnv.\n"
     ]
    }
   ],
   "source": [
    "import gymnasium as gym\n",
    "from stable_baselines3 import DDPG\n",
    "from stable_baselines3.common.vec_env import SubprocVecEnv,DummyVecEnv\n",
    "import numpy as np\n",
    "import sys\n",
    "from stable_baselines3.common.noise import NormalActionNoise, OrnsteinUhlenbeckActionNoise\n",
    "from gymnasium.wrappers.time_limit import TimeLimit\n",
    "\n",
    "\n",
    "from safegym.envs import Satellite_SE2\n",
    "from gymnasium.envs.registration import register\n",
    "register(\n",
    "    id='Satellite-SE2-v0',\n",
    "    entry_point='Satellite_SE2:Satellite_SE2',\n",
    "    max_episode_steps=500,\n",
    "    reward_threshold=475.0,\n",
    ")\n",
    "import os\n",
    "starting_state=np.array([0,0,0,0,0,0,0,0])\n",
    "starting_noise=np.array([60,60,0.1,0.1,0.1,0,0,0])\n",
    "\n",
    "import multiprocessing\n",
    "\n",
    "nproc=multiprocessing.cpu_count()\n",
    "print(nproc)\n",
    "\n",
    "env = gym.make('Satellite-SE2',starting_state=starting_state,starting_noise=starting_noise)\n",
    "#env = DummyVecEnv([lambda:env])\n",
    "#env=Timelimit(env,max_episode_steps=500)\n",
    "\n",
    "#env = make_vec_env(env_name, n_envs=n_envs)\n",
    "\n",
    "# The noise objects for DDPG\n",
    "action_noise = NormalActionNoise(mean=np.zeros(n_actions), sigma=0.1 * np.ones(n_actions))\n",
    "\n",
    "\n",
    "model=DDPG(\"MlpPolicy\",env,action_noise=action_noise,verbose=1)"
   ]
  },
  {
   "cell_type": "code",
   "execution_count": 5,
   "metadata": {},
   "outputs": [
    {
     "data": {
      "application/vnd.jupyter.widget-view+json": {
       "model_id": "86f07bd7a2fa46e98a7931604afe6d92",
       "version_major": 2,
       "version_minor": 0
      },
      "text/plain": [
       "Output()"
      ]
     },
     "metadata": {},
     "output_type": "display_data"
    },
    {
     "name": "stdout",
     "output_type": "stream",
     "text": [
      "---------------------------------\n",
      "| rollout/           |          |\n",
      "|    ep_len_mean     | 500      |\n",
      "|    ep_rew_mean     | -56.2    |\n",
      "| time/              |          |\n",
      "|    episodes        | 1        |\n",
      "|    fps             | 1531     |\n",
      "|    time_elapsed    | 0        |\n",
      "|    total_timesteps | 500      |\n",
      "---------------------------------\n"
     ]
    },
    {
     "name": "stdout",
     "output_type": "stream",
     "text": [
      "---------------------------------\n",
      "| rollout/           |          |\n",
      "|    ep_len_mean     | 500      |\n",
      "|    ep_rew_mean     | 537      |\n",
      "| time/              |          |\n",
      "|    episodes        | 2        |\n",
      "|    fps             | 6        |\n",
      "|    time_elapsed    | 158      |\n",
      "|    total_timesteps | 1000     |\n",
      "| train/             |          |\n",
      "|    actor_loss      | 0.195    |\n",
      "|    critic_loss     | 0.751    |\n",
      "|    learning_rate   | 0.001    |\n",
      "|    n_updates       | 500      |\n",
      "---------------------------------\n"
     ]
    },
    {
     "data": {
      "text/html": [
       "<pre style=\"white-space:pre;overflow-x:auto;line-height:normal;font-family:Menlo,'DejaVu Sans Mono',consolas,'Courier New',monospace\"></pre>\n"
      ],
      "text/plain": []
     },
     "metadata": {},
     "output_type": "display_data"
    },
    {
     "data": {
      "text/html": [
       "<pre style=\"white-space:pre;overflow-x:auto;line-height:normal;font-family:Menlo,'DejaVu Sans Mono',consolas,'Courier New',monospace\">\n",
       "</pre>\n"
      ],
      "text/plain": [
       "\n"
      ]
     },
     "metadata": {},
     "output_type": "display_data"
    }
   ],
   "source": [
    "model.learn(1000,progress_bar=True, log_interval=1,reset_num_timesteps=False)\n",
    "model.save(\"Satellte-DDPG\")\n"
   ]
  },
  {
   "cell_type": "code",
   "execution_count": 20,
   "metadata": {},
   "outputs": [
    {
     "name": "stdout",
     "output_type": "stream",
     "text": [
      "/run/media/simone/Shared/Documenti/Magistrale/Tesi/Code\n",
      "MoviePy - Building file test.gif with imageio.\n"
     ]
    },
    {
     "name": "stderr",
     "output_type": "stream",
     "text": [
      "                                                               \r"
     ]
    }
   ],
   "source": [
    "# !pip install -q IPython\n",
    "%cd /run/media/simone/Shared/Documenti/Magistrale/Tesi/Code\n",
    "model.load(\"Satellte-DDPG\")\n",
    "# from IPython.core.display import Image\n",
    "import numpy as np\n",
    "starting_state=np.array([0,0,0,0,0,0,0,0])\n",
    "starting_noise=np.array([60,60,0.1,0.1,0.1,0,0,0])\n",
    "import matplotlib\n",
    "from moviepy.editor import ImageSequenceClip\n",
    "\n",
    "\n",
    "# %matplotlib notebook\n",
    "# matplotlib.use(\"nbagg\")\n",
    "del env\n",
    "env = gym.make(\"Satellite-SE2\",render_mode=\"rgb_array\",starting_state=starting_state,starting_noise=starting_noise)\n",
    "term=False\n",
    "obs,info=env.reset()\n",
    "frames=[env.render()]\n",
    "env.reset()\n",
    "for _ in range(10000):\n",
    "  action,t=model.predict(obs, deterministic=True)\n",
    "  obs, reward, term, trunc, info = env.step( action)\n",
    "  if _ % 50 == 0:\n",
    "    frames.append(env.render())\n",
    "env.close()\n",
    "\n",
    "clip = ImageSequenceClip((frames), fps=200)\n",
    "clip.write_gif('test.gif', fps=200)\n",
    "# Image('test.gif')"
   ]
  },
  {
   "cell_type": "code",
   "execution_count": 27,
   "metadata": {},
   "outputs": [
    {
     "name": "stdout",
     "output_type": "stream",
     "text": [
      "74.5 µs ± 2.7 µs per loop (mean ± std. dev. of 7 runs, 10,000 loops each)\n"
     ]
    }
   ],
   "source": [
    "%timeit env.step(action)"
   ]
  }
 ],
 "metadata": {
  "kernelspec": {
   "display_name": "default-RL",
   "language": "python",
   "name": "python3"
  },
  "language_info": {
   "codemirror_mode": {
    "name": "ipython",
    "version": 3
   },
   "file_extension": ".py",
   "mimetype": "text/x-python",
   "name": "python",
   "nbconvert_exporter": "python",
   "pygments_lexer": "ipython3",
   "version": "3.10.11"
  },
  "orig_nbformat": 4
 },
 "nbformat": 4,
 "nbformat_minor": 2
}
