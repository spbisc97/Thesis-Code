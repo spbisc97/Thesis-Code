{
 "cells": [
  {
   "cell_type": "code",
   "execution_count": 1,
   "metadata": {},
   "outputs": [
    {
     "name": "stderr",
     "output_type": "stream",
     "text": [
      "<frozen importlib._bootstrap>:241: RuntimeWarning: Your system is avx2 capable but pygame was not built with support for it. The performance of some of your blits could be adversely affected. Consider enabling compile time detection with environment variables like PYGAME_DETECT_AVX2=1 if you are compiling without cross compilation.\n"
     ]
    },
    {
     "name": "stdout",
     "output_type": "stream",
     "text": [
      "Using Numba optimised methods.\n",
      "Using Numba optimised methods.\n",
      "Using Numba optimised methods.\n"
     ]
    }
   ],
   "source": [
    "from stable_baselines3 import DDPG\n",
    "from stable_baselines3.common.env_util import make_vec_env\n",
    "from stable_baselines3.common.evaluation import evaluate_policy\n",
    "from stable_baselines3.common.monitor import Monitor\n",
    "\n",
    "\n",
    "from stable_baselines3.common.noise import (\n",
    "    NormalActionNoise,\n",
    "    OrnsteinUhlenbeckActionNoise,\n",
    ")\n",
    "from safegym.envs import Satellite_SE2\n",
    "import gymnasium as gym\n",
    "from gymnasium.wrappers import TimeLimit\n",
    "import numpy as np\n",
    "import os\n",
    "import numpy as np\n",
    "from matplotlib import pyplot as plt\n",
    "import time"
   ]
  },
  {
   "cell_type": "code",
   "execution_count": 18,
   "metadata": {},
   "outputs": [],
   "source": [
    "from moviepy.editor import ImageSequenceClip\n",
    "def run_episode(\n",
    "    model, env, model_name=\"DDPG\", **kargs\n",
    "):\n",
    "    term = False\n",
    "    obs, info = env.reset()\n",
    "    frames = [env.render()]\n",
    "    counter = 0\n",
    "    while not term:\n",
    "        action, _states = model.predict(obs, deterministic=True)\n",
    "        obs, reward, term, trunc, info = env.step(action)\n",
    "        counter += 1\n",
    "        if counter % 100 == 0:\n",
    "            frames.append(env.render())\n",
    "        if term or trunc:\n",
    "            X = np.array(env.render(), dtype=np.uint8)\n",
    "            plt.imshow(X)\n",
    "            term = False\n",
    "            break\n",
    "    env.close()\n",
    "    ImageSequenceClip(frames, fps=30).write_videofile(f\"{model_name}.mp4\")\n",
    "    "
   ]
  },
  {
   "cell_type": "code",
   "execution_count": 19,
   "metadata": {},
   "outputs": [],
   "source": [
    "def env_maker(render_mode=None):\n",
    "    env = gym.make(\n",
    "        \"Satellite-SE2-v0\",\n",
    "        render_mode=render_mode,\n",
    "    )\n",
    "\n",
    "    env = TimeLimit(env, max_episode_steps=5_000)\n",
    "    env = Monitor(env)\n",
    "\n",
    "    return env"
   ]
  },
  {
   "cell_type": "code",
   "execution_count": null,
   "metadata": {},
   "outputs": [],
   "source": []
  },
  {
   "cell_type": "code",
   "execution_count": 20,
   "metadata": {},
   "outputs": [
    {
     "name": "stdout",
     "output_type": "stream",
     "text": [
      "Moviepy - Building video DDPG.mp4.\n",
      "Moviepy - Writing video DDPG.mp4\n",
      "\n"
     ]
    },
    {
     "name": "stderr",
     "output_type": "stream",
     "text": [
      "                                                            \r"
     ]
    },
    {
     "name": "stdout",
     "output_type": "stream",
     "text": [
      "Moviepy - Done !\n",
      "Moviepy - video ready DDPG.mp4\n"
     ]
    }
   ],
   "source": [
    "env_name = \"Satellite_SE2-v0\"\n",
    "Algo_name = \"DDPG\"\n",
    "date = \"10_07_17_40\"\n",
    "last_model = \"DDPG_69.zip\"\n",
    "\n",
    "\n",
    "models_dir = \"./savings/\" + f\"{env_name}/{Algo_name}/{date}/models/\"\n",
    "model_position=f\"{models_dir}/{Algo_name}_{last_model}\",\n",
    "\n",
    "model_position= \"/run/media/simone/Shared/Documenti/Magistrale/Tesi/Code/Python/Test_env/savings/Satellite-SE2-v0/DDPG/10_07_17_40/models/DDPG_74\"\n",
    "model=DDPG.load(str(model_position))\n",
    "\n",
    "run_episode(model, env_maker(render_mode=\"rgb_array\"))"
   ]
  }
 ],
 "metadata": {
  "kernelspec": {
   "display_name": "default-RL",
   "language": "python",
   "name": "python3"
  },
  "language_info": {
   "codemirror_mode": {
    "name": "ipython",
    "version": 3
   },
   "file_extension": ".py",
   "mimetype": "text/x-python",
   "name": "python",
   "nbconvert_exporter": "python",
   "pygments_lexer": "ipython3",
   "version": "3.10.11"
  },
  "orig_nbformat": 4
 },
 "nbformat": 4,
 "nbformat_minor": 2
}
