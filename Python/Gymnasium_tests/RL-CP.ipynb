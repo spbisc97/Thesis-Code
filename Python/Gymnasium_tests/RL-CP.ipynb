{
 "cells": [
  {
   "cell_type": "code",
   "execution_count": null,
   "metadata": {},
   "outputs": [],
   "source": [
    "import gymnasium as gym"
   ]
  },
  {
   "cell_type": "code",
   "execution_count": null,
   "metadata": {},
   "outputs": [],
   "source": [
    "import matplotlib.pyplot as plt\n",
    "from matplotlib import animation , rc\n",
    "from IPython import display\n",
    "%matplotlib inline"
   ]
  },
  {
   "cell_type": "code",
   "execution_count": null,
   "metadata": {},
   "outputs": [],
   "source": [
    "import ffmpegio\n",
    "import numpy as np\n",
    "import os"
   ]
  },
  {
   "cell_type": "code",
   "execution_count": null,
   "metadata": {},
   "outputs": [],
   "source": [
    "import stable_baselines3\n",
    "from stable_baselines3 import A2C\n",
    "\n",
    "print(stable_baselines3.__version__)"
   ]
  },
  {
   "cell_type": "code",
   "execution_count": null,
   "metadata": {},
   "outputs": [],
   "source": [
    "env = gym.make(\"CartPole-v1\", render_mode=\"rgb_array\")\n",
    "env_name = \"CartPole-v1\"\n",
    "Algo_name = \"A2C\"\n",
    "imgs_dir = f\"imgs/{env_name}/{Algo_name}\""
   ]
  },
  {
   "cell_type": "code",
   "execution_count": null,
   "metadata": {},
   "outputs": [],
   "source": [
    "model = A2C(\"MlpPolicy\", env, verbose=0)"
   ]
  },
  {
   "cell_type": "code",
   "execution_count": null,
   "metadata": {},
   "outputs": [],
   "source": [
    "model.learn(total_timesteps=10_000)"
   ]
  },
  {
   "cell_type": "code",
   "execution_count": null,
   "metadata": {},
   "outputs": [],
   "source": [
    "vec_env=model.get_env()"
   ]
  },
  {
   "cell_type": "code",
   "execution_count": null,
   "metadata": {},
   "outputs": [],
   "source": [
    "\n",
    "obs = vec_env.reset()\n",
    "num_episodes = 10"
   ]
  },
  {
   "cell_type": "code",
   "execution_count": null,
   "metadata": {},
   "outputs": [],
   "source": [
    "frames = []\n",
    "for i in range(num_episodes):\n",
    "    for j in range(1000):\n",
    "        action, _state = model.predict(obs, deterministic=True)\n",
    "        obs, reward, done, info = vec_env.step(action)\n",
    "        if i==num_episodes-1:\n",
    "            frames.append(vec_env.render())\n",
    "        # vec_env.render()\n",
    "        # VecEnv resets automatically\n",
    "        if done:\n",
    "            obs = vec_env.reset()\n",
    "            print('done '+str(i))\n",
    "            break"
   ]
  },
  {
   "cell_type": "code",
   "execution_count": null,
   "metadata": {},
   "outputs": [],
   "source": [
    "os.makedirs(imgs_dir, exist_ok=True)\n",
    "\n",
    "filename = imgs_dir +'FIRST'+'.mp4'\n",
    "ffmpegio.video.write(filename, 30, np.array(frames),overwrite=True,show_log=True)\n",
    "display.HTML(f\"\"\"<video alt=\"test\" controls><source src=\"\"\"+filename+\"\"\" type=\"video/mp4\"></video>\"\"\")"
   ]
  },
  {
   "cell_type": "code",
   "execution_count": null,
   "metadata": {},
   "outputs": [],
   "source": [
    "model.learn(total_timesteps=10_000)\n",
    "vec_env=model.get_env()\n",
    "\n",
    "obs = vec_env.reset()\n",
    "num_episodes = 10"
   ]
  },
  {
   "cell_type": "code",
   "execution_count": null,
   "metadata": {},
   "outputs": [],
   "source": [
    "frames = []\n",
    "for i in range(num_episodes):\n",
    "    for j in range(1000):\n",
    "        action, _state = model.predict(obs, deterministic=True)\n",
    "        obs, reward, done, info = vec_env.step(action)\n",
    "        if i==num_episodes-1:\n",
    "            frames.append(vec_env.render())\n",
    "        # vec_env.render()\n",
    "        # VecEnv resets automatically\n",
    "        if done:\n",
    "            obs = vec_env.reset()\n",
    "            print('done '+str(i))\n",
    "            break"
   ]
  },
  {
   "cell_type": "code",
   "execution_count": null,
   "metadata": {},
   "outputs": [],
   "source": [
    "os.makedirs(imgs_dir, exist_ok=True)\n",
    "\n",
    "filename = imgs_dir+'SECOND'+'.mp4'\n",
    "ffmpegio.video.write(filename, 30, np.array(frames),overwrite=True,show_log=True)\n",
    "display.HTML(f\"\"\"<video alt=\"test\" controls><source src=\"\"\"+filename+\"\"\" type=\"video/mp4\"></video>\"\"\")"
   ]
  },
  {
   "cell_type": "code",
   "execution_count": null,
   "metadata": {},
   "outputs": [],
   "source": [
    "vec_env.close()"
   ]
  }
 ],
 "metadata": {
  "kernelspec": {
   "display_name": "default-RL",
   "language": "python",
   "name": "python3"
  },
  "language_info": {
   "codemirror_mode": {
    "name": "ipython",
    "version": 3
   },
   "file_extension": ".py",
   "mimetype": "text/x-python",
   "name": "python",
   "nbconvert_exporter": "python",
   "pygments_lexer": "ipython3",
   "version": "3.10.11"
  },
  "orig_nbformat": 4
 },
 "nbformat": 4,
 "nbformat_minor": 2
}
