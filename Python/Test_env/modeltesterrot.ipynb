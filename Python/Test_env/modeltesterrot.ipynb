{
 "cells": [
  {
   "cell_type": "code",
   "execution_count": 2,
   "metadata": {},
   "outputs": [],
   "source": [
    "from stable_baselines3 import DDPG,TD3,PPO\n",
    "from stable_baselines3.common.env_util import make_vec_env\n",
    "from stable_baselines3.common.evaluation import evaluate_policy\n",
    "from stable_baselines3.common.monitor import Monitor\n",
    "\n",
    "\n",
    "from stable_baselines3.common.noise import (\n",
    "    NormalActionNoise,\n",
    "    OrnsteinUhlenbeckActionNoise,\n",
    ")\n",
    "from safegym.envs import Satellite_rot\n",
    "import gymnasium as gym\n",
    "from gymnasium.wrappers.time_limit import TimeLimit\n",
    "import numpy as np\n",
    "import os\n",
    "import numpy as np\n",
    "from matplotlib import pyplot as plt\n",
    "import time"
   ]
  },
  {
   "cell_type": "code",
   "execution_count": 17,
   "metadata": {},
   "outputs": [],
   "source": [
    "def classic_test_env():\n",
    "    import PIL.Image as Image\n",
    "\n",
    "    from safegym.envs.Satellite_rot import Chaser\n",
    "    env = gym.make(\n",
    "        \"Satellite-rot-v0\",\n",
    "        render_mode=\"rgb_array\",\n",
    "        control=\"PID\",\n",
    "        matplotlib_backend=None,\n",
    "    )\n",
    "    env=TimeLimit(env,max_episode_steps=500)\n",
    "    print(\"env checked\")\n",
    "    term = False\n",
    "\n",
    "    obs, info = env.reset()\n",
    "    while True:\n",
    "        action = Chaser.quaternion_err_rate(\n",
    "            obs[0:4], info[\"qd\"], w=obs[4:8]\n",
    "        )\n",
    "        action = np.clip(action, -Chaser.Tmax, Chaser.Tmax)\n",
    "        # action = env.action_space.sample()\n",
    "        # action = np.array([0, 1, 0])\n",
    "        obs, reward, term, trunc, info = env.step(action)\n",
    "        if term or trunc:\n",
    "            print(term, trunc)\n",
    "            x = env.render()\n",
    "            img = Image.fromarray(x)\n",
    "            img.show()\n",
    "            img.save(f\"classic.jpg\")\n",
    "            break\n",
    "    env.close()\n",
    "\n"
   ]
  },
  {
   "cell_type": "code",
   "execution_count": 24,
   "metadata": {},
   "outputs": [],
   "source": [
    "def test__model_env(model):\n",
    "    import PIL.Image as Image\n",
    "\n",
    "    env = gym.make(\n",
    "        \"Satellite-rot-v0\",\n",
    "        render_mode=\"rgb_array\",\n",
    "    )\n",
    "    env=TimeLimit(env,max_episode_steps=500)\n",
    "    term = False\n",
    "    obs, info = env.reset()\n",
    "    while True:\n",
    "        action,info = model.predict(obs, deterministic=True)\n",
    "        obs, reward, term, trunc, info = env.step(action)\n",
    "        if term or trunc:\n",
    "            print(term, trunc)\n",
    "            x = env.render()\n",
    "            img = Image.fromarray(x)\n",
    "            img.show()\n",
    "            img.save(f\"ppo.jpg\")\n",
    "            break\n",
    "    env.close()\n",
    "\n"
   ]
  },
  {
   "cell_type": "code",
   "execution_count": 39,
   "metadata": {},
   "outputs": [],
   "source": [
    "def env_maker(render_mode=None):\n",
    "    env = gym.make(\n",
    "        \"Satellite-SE2-v0\",\n",
    "        render_mode=render_mode,\n",
    "        step=np.float32(0.1),\n",
    "        unconstrained=True,\n",
    "        underactuated=True,\n",
    "    )\n",
    "\n",
    "    env = TimeLimit(env, max_episode_steps=20_000)\n",
    "    env = Monitor(env)\n",
    "\n",
    "    return env"
   ]
  },
  {
   "cell_type": "code",
   "execution_count": 53,
   "metadata": {},
   "outputs": [
    {
     "name": "stdout",
     "output_type": "stream",
     "text": [
      "False True\n"
     ]
    },
    {
     "name": "stderr",
     "output_type": "stream",
     "text": [
      "/home/simone/.mambaforge/envs/default-RL/lib/python3.10/site-packages/gymnasium/utils/passive_env_checker.py:364: UserWarning: \u001b[33mWARN: No render fps was declared in the environment (env.metadata['render_fps'] is None or not defined), rendering may occur at inconsistent fps.\u001b[0m\n",
      "  logger.warn(\n"
     ]
    }
   ],
   "source": [
    "env_name = \"Satellite-rot-v0\"\n",
    "Algo_name = \"PPO\"\n",
    "date = \"05_15_16_36\"\n",
    "last_model = \"52\"\n",
    "\n",
    "\n",
    "models_dir = \"/run/media/simone/Shared/Documenti/Magistrale/Tesi/Code/Python/Test_env/savings/\" \n",
    "models_dir+= f\"{env_name}/{Algo_name}/{date}\"#/models\"\n",
    "model_position=f\"{models_dir}/{Algo_name}_{last_model}\"\n",
    "# print(str(model_position))\n",
    "\n",
    "# model_position= \"/run/media/simone/Shared/Documenti/Magistrale/Tesi/Code/Python/Test_env/savings/Satellite-SE2-v0/TD3/10_08_20_15/models/TD3_1\"\n",
    "# print(model_position)\n",
    "model=PPO.load(str(model_position))\n",
    "test__model_env(model)"
   ]
  },
  {
   "cell_type": "code",
   "execution_count": 22,
   "metadata": {},
   "outputs": [
    {
     "name": "stdout",
     "output_type": "stream",
     "text": [
      "env checked\n",
      "False True\n"
     ]
    },
    {
     "name": "stderr",
     "output_type": "stream",
     "text": [
      "/home/simone/.mambaforge/envs/default-RL/lib/python3.10/site-packages/gymnasium/utils/passive_env_checker.py:364: UserWarning: \u001b[33mWARN: No render fps was declared in the environment (env.metadata['render_fps'] is None or not defined), rendering may occur at inconsistent fps.\u001b[0m\n",
      "  logger.warn(\n"
     ]
    }
   ],
   "source": [
    "classic_test_env()"
   ]
  }
 ],
 "metadata": {
  "kernelspec": {
   "display_name": "default-RL",
   "language": "python",
   "name": "python3"
  },
  "language_info": {
   "codemirror_mode": {
    "name": "ipython",
    "version": 3
   },
   "file_extension": ".py",
   "mimetype": "text/x-python",
   "name": "python",
   "nbconvert_exporter": "python",
   "pygments_lexer": "ipython3",
   "version": "3.10.11"
  },
  "orig_nbformat": 4
 },
 "nbformat": 4,
 "nbformat_minor": 2
}
