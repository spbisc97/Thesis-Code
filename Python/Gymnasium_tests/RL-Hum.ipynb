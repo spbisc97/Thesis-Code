{
 "cells": [
  {
   "cell_type": "code",
   "execution_count": null,
   "metadata": {},
   "outputs": [],
   "source": [
    "import gymnasium as gym\n",
    "env = gym.make('Humanoid-v4',render_mode='human')\n"
   ]
  },
  {
   "cell_type": "code",
   "execution_count": null,
   "metadata": {},
   "outputs": [],
   "source": [
    "num_episodes=10\n",
    "for ep in range(num_episodes):\n",
    "    obs,info=env.reset()\n",
    "    term=False\n",
    "    frames=[]\n",
    "    while not term or trunc:\n",
    "        action = env.action_space.sample()                                                                                                                                                                                                                                                                                                                                                  \n",
    "        obs, reward, term,trunc, info = env.step(action)\n",
    "        if term or trunc:           \n",
    "            break"
   ]
  }
 ],
 "metadata": {
  "kernelspec": {
   "display_name": "default-RL",
   "language": "python",
   "name": "python3"
  },
  "language_info": {
   "name": "python",
   "version": "3.10.11"
  },
  "orig_nbformat": 4
 },
 "nbformat": 4,
 "nbformat_minor": 2
}
