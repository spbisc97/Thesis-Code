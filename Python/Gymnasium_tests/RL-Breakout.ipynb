{
 "cells": [
  {
   "cell_type": "code",
   "execution_count": 13,
   "metadata": {},
   "outputs": [
    {
     "name": "stdout",
     "output_type": "stream",
     "text": [
      "Collecting gym==0.17.2\n",
      "  Downloading gym-0.17.2.tar.gz (1.6 MB)\n",
      "\u001b[2K     \u001b[90m━━━━━━━━━━━━━━━━━━━━━━━━━━━━━━━━━━━━━━━━\u001b[0m \u001b[32m1.6/1.6 MB\u001b[0m \u001b[31m16.3 MB/s\u001b[0m eta \u001b[36m0:00:00\u001b[0ma \u001b[36m0:00:01\u001b[0m\n",
      "\u001b[?25h  Preparing metadata (setup.py) ... \u001b[?25ldone\n",
      "\u001b[?25hRequirement already satisfied: scipy in /home/simone/mambaforge/envs/gym/lib/python3.10/site-packages (from gym==0.17.2) (1.10.1)\n",
      "Requirement already satisfied: numpy>=1.10.4 in /home/simone/mambaforge/envs/gym/lib/python3.10/site-packages (from gym==0.17.2) (1.23.5)\n",
      "Collecting pyglet<=1.5.0,>=1.4.0 (from gym==0.17.2)\n",
      "  Downloading pyglet-1.5.0-py2.py3-none-any.whl (1.0 MB)\n",
      "\u001b[2K     \u001b[90m━━━━━━━━━━━━━━━━━━━━━━━━━━━━━━━━━━━━━━━━\u001b[0m \u001b[32m1.0/1.0 MB\u001b[0m \u001b[31m28.8 MB/s\u001b[0m eta \u001b[36m0:00:00\u001b[0m00:01\u001b[0m\n",
      "\u001b[?25hCollecting cloudpickle<1.4.0,>=1.2.0 (from gym==0.17.2)\n",
      "  Downloading cloudpickle-1.3.0-py2.py3-none-any.whl (26 kB)\n",
      "Collecting future (from pyglet<=1.5.0,>=1.4.0->gym==0.17.2)\n",
      "  Downloading future-0.18.3.tar.gz (840 kB)\n",
      "\u001b[2K     \u001b[90m━━━━━━━━━━━━━━━━━━━━━━━━━━━━━━━━━━━━━━\u001b[0m \u001b[32m840.9/840.9 kB\u001b[0m \u001b[31m82.4 MB/s\u001b[0m eta \u001b[36m0:00:00\u001b[0m\n",
      "\u001b[?25h  Preparing metadata (setup.py) ... \u001b[?25ldone\n",
      "\u001b[?25hBuilding wheels for collected packages: gym, future\n",
      "  Building wheel for gym (setup.py) ... \u001b[?25ldone\n",
      "\u001b[?25h  Created wheel for gym: filename=gym-0.17.2-py3-none-any.whl size=1650865 sha256=34cd173c8ea35b07c0772faabac2a6b3c2596f97c1be7407fb00a52b94e31bd0\n",
      "  Stored in directory: /home/simone/.cache/pip/wheels/b5/a2/d3/d3b6cd70bcc1dc95f45b57af0abe0f62f2df65bc5326142a24\n",
      "  Building wheel for future (setup.py) ... \u001b[?25ldone\n",
      "\u001b[?25h  Created wheel for future: filename=future-0.18.3-py3-none-any.whl size=492022 sha256=a1ef2d123a84680281f348ff7346fa73e876b5bb6cf6822f705ca981b9625eb7\n",
      "  Stored in directory: /home/simone/.cache/pip/wheels/5e/a9/47/f118e66afd12240e4662752cc22cefae5d97275623aa8ef57d\n",
      "Successfully built gym future\n",
      "Installing collected packages: cloudpickle, future, pyglet, gym\n",
      "  Attempting uninstall: cloudpickle\n",
      "    Found existing installation: cloudpickle 2.2.1\n",
      "    Uninstalling cloudpickle-2.2.1:\n",
      "      Successfully uninstalled cloudpickle-2.2.1\n",
      "  Attempting uninstall: gym\n",
      "    Found existing installation: gym 0.26.2\n",
      "    Uninstalling gym-0.26.2:\n",
      "      Successfully uninstalled gym-0.26.2\n",
      "Successfully installed cloudpickle-1.3.0 future-0.18.3 gym-0.17.2 pyglet-1.5.0\n",
      "Please restart the runtime\n",
      "Observation Space:  Box(0, 255, (210, 160, 3), uint8)\n",
      "Action Space        Discrete(4)\n"
     ]
    }
   ],
   "source": [
    "import gymnasium as gym\n",
    "import time\n",
    "env = gym.make(\"BreakoutNoFrameskip-v4\", render_mode='rgb_array')\n",
    "\n",
    "print(\"Observation Space: \", env.observation_space)\n",
    "print(\"Action Space       \", env.action_space)\n",
    "\n",
    "\n",
    "obs ,info= env.reset()"
   ]
  },
  {
   "cell_type": "code",
   "execution_count": null,
   "metadata": {},
   "outputs": [],
   "source": [
    "for i in range(100):\n",
    "    action = env.action_space.sample()\n",
    "    obs, reward, done,trunc, info = env.step(action)\n",
    "    #env.render()\n",
    "    time.sleep(0.01)\n",
    "env.close()"
   ]
  },
  {
   "cell_type": "code",
   "execution_count": null,
   "metadata": {},
   "outputs": [],
   "source": [
    "from collections import deque\n",
    "from gymnasium import spaces\n",
    "import numpy as np"
   ]
  },
  {
   "cell_type": "code",
   "execution_count": null,
   "metadata": {},
   "outputs": [],
   "source": [
    "class ConcatObs(gym.Wrapper):\n",
    "    def __init__(self,env,k):\n",
    "        gym.Wrapper.__init__(self,env)\n",
    "        self.k=k\n",
    "        self.frames=deque([], maxlen=k)\n",
    "        shp = env.observation_space.shape\n",
    "        self.observation_space = \\\n",
    "            spaces.Box(low=0,high=255,shape=((k,)+shp),dtype=env.observation_space.dtype)\n",
    "\n",
    "        \n",
    "\n",
    "    def reset(self):\n",
    "        ob,info = self.env.reset()\n",
    "        for _ in range(self.k):\n",
    "            self.frames.append(ob)\n",
    "        return self._get_ob()\n",
    "    \n",
    "    def step(self,action):\n",
    "        ob,reward,done,trunc,info = self.env.step(action)\n",
    "        self.frames.append(ob)\n",
    "        return self._get_ob(),reward,done,trunc,info\n",
    "    \n",
    "    def _get_ob(self):\n",
    "        assert len(self.frames) == self.k\n",
    "        return np.array(self.frames)"
   ]
  },
  {
   "cell_type": "code",
   "execution_count": null,
   "metadata": {},
   "outputs": [],
   "source": [
    "env = gym.make(\"BreakoutNoFrameskip-v4\")\n",
    "wrapped_env = ConcatObs(env,4)\n",
    "print(\"The new observation space is: \", wrapped_env.observation_space)\n"
   ]
  },
  {
   "cell_type": "code",
   "execution_count": null,
   "metadata": {},
   "outputs": [],
   "source": [
    "# Reset the Env\n",
    "obs = wrapped_env.reset()\n",
    "print(\"Intial obs is of the shape\", obs.shape)\n",
    "\n",
    "# Take one step\n",
    "obs, _, _, _,_  = wrapped_env.step(2)\n",
    "print(\"Obs after taking a step is\", obs.shape)\n"
   ]
  },
  {
   "cell_type": "code",
   "execution_count": null,
   "metadata": {},
   "outputs": [],
   "source": [
    "import random\n",
    "\n",
    "from gymnasium.core import Env \n",
    "\n",
    "class ObservationWeapper(gym.ObservationWrapper):\n",
    "    def __init__(self, env: Env):\n",
    "        super().__init__(env)\n",
    "        \n",
    "    def observation(self, observation):\n",
    "        #normalize \n",
    "        return observation/255.0\n",
    "\n",
    "class RewardWrapper(gym.RewardWrapper):\n",
    "    def __init__(self, env: Env):\n",
    "        super().__init__(env)\n",
    "        \n",
    "    def reward(self, reward):\n",
    "        #normalize \n",
    "        return np.clip(reward, 0, 1)\n",
    "    \n",
    "    \n",
    "    \n",
    "class ActionWrapper(gym.ActionWrapper):\n",
    "    def __init__(self, env):\n",
    "        super().__init__(env)\n",
    "    \n",
    "    def action(self, action):\n",
    "        if action == 3:\n",
    "            return random.choice([0,1,2])\n",
    "        else:\n",
    "            return action\n"
   ]
  },
  {
   "cell_type": "code",
   "execution_count": null,
   "metadata": {},
   "outputs": [],
   "source": [
    "env= gym.make(\"BreakoutNoFrameskip-v4\", render_mode='rgb_array')\n",
    "wrapped_env = ObservationWeapper(RewardWrapper(ActionWrapper(env)))\n",
    "\n",
    "obs = wrapped_env.reset()\n",
    "\n",
    "for step in range(500):\n",
    "    action  = wrapped_env.action_space.sample()\n",
    "    obs,reward,done,trunc,info = wrapped_env.step(action)\n",
    "    \n",
    "    # raise a flaf if value have not been vectorized properly\n",
    "    if (obs>1.0).any() or (obs<0.0).any():\n",
    "        raise Exception(\"Observation not normalized\")\n",
    "    \n",
    "    \n",
    "    # raise a flaf if value have not been clipped properly\n",
    "    if reward>1.0 or reward<0.0:\n",
    "        raise Exception(\"Reward not clipped\")\n",
    "    \n",
    "    # Check in renderring is working\n",
    "    wrapped_env.render()\n",
    "    \n",
    "wrapped_env.close()\n",
    "\n",
    "print(\"All tests passed\")"
   ]
  },
  {
   "cell_type": "code",
   "execution_count": null,
   "metadata": {},
   "outputs": [],
   "source": [
    "print(\"Wrapped Env:\", wrapped_env)\n",
    "print(\"Unwrapped Env\", wrapped_env.unwrapped)\n",
    "print(\"Getting the meaning of actions\", wrapped_env.unwrapped.get_action_meanings())"
   ]
  },
  {
   "attachments": {},
   "cell_type": "markdown",
   "metadata": {},
   "source": [
    "Use Baselines"
   ]
  },
  {
   "cell_type": "code",
   "execution_count": null,
   "metadata": {},
   "outputs": [],
   "source": [
    "\n",
    "!pip install stable-baselines3[extra]"
   ]
  }
 ],
 "metadata": {
  "kernelspec": {
   "display_name": "Python 3",
   "language": "python",
   "name": "python3"
  },
  "language_info": {
   "codemirror_mode": {
    "name": "ipython",
    "version": 3
   },
   "file_extension": ".py",
   "mimetype": "text/x-python",
   "name": "python",
   "nbconvert_exporter": "python",
   "pygments_lexer": "ipython3",
   "version": "3.10.10"
  },
  "orig_nbformat": 4
 },
 "nbformat": 4,
 "nbformat_minor": 2
}
